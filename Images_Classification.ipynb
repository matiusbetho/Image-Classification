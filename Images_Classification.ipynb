{
  "nbformat": 4,
  "nbformat_minor": 0,
  "metadata": {
    "colab": {
      "name": "Images Classification.ipynb",
      "provenance": [],
      "authorship_tag": "ABX9TyMPpdfQbKbi+iGAIFGVxPQJ",
      "include_colab_link": true
    },
    "kernelspec": {
      "name": "python3",
      "display_name": "Python 3"
    },
    "accelerator": "GPU"
  },
  "cells": [
    {
      "cell_type": "markdown",
      "metadata": {
        "id": "view-in-github",
        "colab_type": "text"
      },
      "source": [
        "<a href=\"https://colab.research.google.com/github/matiusbetho/Image-Classification/blob/main/Images_Classification.ipynb\" target=\"_parent\"><img src=\"https://colab.research.google.com/assets/colab-badge.svg\" alt=\"Open In Colab\"/></a>"
      ]
    },
    {
      "cell_type": "code",
      "metadata": {
        "id": "-AywWPl8H-Oj"
      },
      "source": [
        "\"\"\" membuat program kalsifikasi images dengan mechine learning\"\"\"\n",
        "##################################################################\n",
        "\"\"\" Memasukan Library kedalan Python \"\"\"\n",
        "import tensorflow as tf\n",
        "# TensorFlow adalah kerangka mechine learning\n",
        "from tensorflow import keras\n",
        "# Memanggil KERAS dari module tensorflow\n",
        "from keras.models import Sequential\n",
        "# memasukkan fungsional sequential dari module keras.model\n",
        "from keras.layers import Dense, Flatten, Conv2D, MaxPooling2D, Dropout\n",
        "# memasukkan fungsional Dense, Flatten, Conv2D, MaxPooling2D, Dropout dari module keras.layer\n",
        "from tensorflow.keras import layers\n",
        "# memasukkan fungsionalitas layer dari module tensorflow.keras\n",
        "from keras.utils import to_categorical\n",
        "# memasukkan fungsional to_categorical dari module keras.utils\n",
        "import numpy as np\n",
        "# memasukkan module numpy\n",
        "import matplotlib.pyplot as plt\n",
        "# memasukkan module matplotlib.pypllot\n",
        "plt.style.use('fivethirtyeight')"
      ],
      "execution_count": null,
      "outputs": []
    },
    {
      "cell_type": "code",
      "metadata": {
        "id": "fmsPjcMzQpI8",
        "colab": {
          "base_uri": "https://localhost:8080/"
        },
        "outputId": "cae28edb-ec09-438f-d56b-f20f2b63fe8e"
      },
      "source": [
        "# memasukkan data set yang sudah disediakan oleh KERAS\n",
        "from keras.datasets import cifar10\n",
        "(x_train, y_train),(x_test, y_test)=cifar10.load_data()\n",
        "# Sebuah perintah untuk memasukkan data set pada training dan test  "
      ],
      "execution_count": null,
      "outputs": [
        {
          "output_type": "stream",
          "text": [
            "Downloading data from https://www.cs.toronto.edu/~kriz/cifar-10-python.tar.gz\n",
            "170500096/170498071 [==============================] - 2s 0us/step\n"
          ],
          "name": "stdout"
        }
      ]
    },
    {
      "cell_type": "code",
      "metadata": {
        "id": "Qvu9R3SXSqV0",
        "colab": {
          "base_uri": "https://localhost:8080/"
        },
        "outputId": "edc85efc-c5c1-481f-af92-27c62971e3e0"
      },
      "source": [
        "#Melihat tipe data pada training dan test dataset\n",
        "print(type(x_train))\n",
        "print(type(y_train))\n",
        "print(type(x_test))\n",
        "print(type(y_test))"
      ],
      "execution_count": null,
      "outputs": [
        {
          "output_type": "stream",
          "text": [
            "<class 'numpy.ndarray'>\n",
            "<class 'numpy.ndarray'>\n",
            "<class 'numpy.ndarray'>\n",
            "<class 'numpy.ndarray'>\n"
          ],
          "name": "stdout"
        }
      ]
    },
    {
      "cell_type": "code",
      "metadata": {
        "id": "HFetqOeTjHts",
        "colab": {
          "base_uri": "https://localhost:8080/"
        },
        "outputId": "311b85fe-637c-494c-8774-05d81e3f4ab1"
      },
      "source": [
        "# melihat ukuran dari array pada training dan test dataset\n",
        "print(\"x_train shape :\" ,x_train.shape)\n",
        "print(\"y_train shape :\" ,y_train.shape)\n",
        "print(\"x_test shape :\" ,x_test.shape)\n",
        "print(\"y_test shape :\" ,y_test.shape)"
      ],
      "execution_count": null,
      "outputs": [
        {
          "output_type": "stream",
          "text": [
            "x_train shape : (50000, 32, 32, 3)\n",
            "y_train shape : (50000, 1)\n",
            "x_test shape : (10000, 32, 32, 3)\n",
            "y_test shape : (10000, 1)\n"
          ],
          "name": "stdout"
        }
      ]
    },
    {
      "cell_type": "code",
      "metadata": {
        "id": "xYMAV69UkcZm",
        "colab": {
          "base_uri": "https://localhost:8080/",
          "height": 52
        },
        "outputId": "6eb774b6-d717-4ce9-be39-bdbe00396261"
      },
      "source": [
        "\"\"\"\n",
        "(50000, 32, 32, 3) artinya mempunya 5000 data dan memuat gambar ukuran 32*32 dengan kedalaman warna 3 bit\n",
        "(50000, 1) artinya mempunyai 5000 data dan memuat 1 warna\n",
        "\"\"\""
      ],
      "execution_count": null,
      "outputs": [
        {
          "output_type": "execute_result",
          "data": {
            "application/vnd.google.colaboratory.intrinsic+json": {
              "type": "string"
            },
            "text/plain": [
              "'\\n(50000, 32, 32, 3) artinya mempunya 5000 data dan memuat gambar ukuran 32*32 dengan kedalaman warna 3 bit\\n(50000, 1) artinya mempunyai 5000 data dan memuat 1 warna\\n'"
            ]
          },
          "metadata": {
            "tags": []
          },
          "execution_count": 6
        }
      ]
    },
    {
      "cell_type": "code",
      "metadata": {
        "id": "4DeTisQ-xOdZ",
        "colab": {
          "base_uri": "https://localhost:8080/"
        },
        "outputId": "01dbd00d-9558-4f30-9fd6-7e77854e7f96"
      },
      "source": [
        "# memuat gambar pada data set gambar pertama dalam bentuk array \n",
        "index = 5\n",
        "x_train[index]"
      ],
      "execution_count": null,
      "outputs": [
        {
          "output_type": "execute_result",
          "data": {
            "text/plain": [
              "array([[[159, 102, 101],\n",
              "        [150,  91,  95],\n",
              "        [153,  95,  97],\n",
              "        ...,\n",
              "        [ 91,  71,  56],\n",
              "        [ 74,  63,  55],\n",
              "        [ 76,  58,  55]],\n",
              "\n",
              "       [[142,  75,  68],\n",
              "        [146,  72,  66],\n",
              "        [155,  76,  65],\n",
              "        ...,\n",
              "        [127, 105,  71],\n",
              "        [122, 111,  93],\n",
              "        [ 86,  69,  61]],\n",
              "\n",
              "       [[109,  67,  75],\n",
              "        [ 99,  58,  60],\n",
              "        [105,  59,  52],\n",
              "        ...,\n",
              "        [137, 112,  80],\n",
              "        [163, 132, 105],\n",
              "        [ 93,  72,  71]],\n",
              "\n",
              "       ...,\n",
              "\n",
              "       [[244, 129,  70],\n",
              "        [240, 123,  65],\n",
              "        [241, 122,  65],\n",
              "        ...,\n",
              "        [156,  42,  15],\n",
              "        [179,  59,  26],\n",
              "        [200,  73,  36]],\n",
              "\n",
              "       [[246, 133,  74],\n",
              "        [243, 128,  72],\n",
              "        [243, 127,  70],\n",
              "        ...,\n",
              "        [162,  44,  14],\n",
              "        [178,  56,  22],\n",
              "        [192,  65,  27]],\n",
              "\n",
              "       [[246, 139,  82],\n",
              "        [243, 133,  78],\n",
              "        [244, 132,  77],\n",
              "        ...,\n",
              "        [166,  47,  14],\n",
              "        [173,  51,  17],\n",
              "        [182,  57,  19]]], dtype=uint8)"
            ]
          },
          "metadata": {
            "tags": []
          },
          "execution_count": 3
        }
      ]
    },
    {
      "cell_type": "code",
      "metadata": {
        "id": "lRzwF4uWyahL",
        "colab": {
          "base_uri": "https://localhost:8080/",
          "height": 284
        },
        "outputId": "c71e2688-85c8-4187-9610-4b2f18f067db"
      },
      "source": [
        "# memuat gambar pertama pada data set sebagai gambar\n",
        "img = plt.imshow(x_train[index])"
      ],
      "execution_count": null,
      "outputs": [
        {
          "output_type": "display_data",
          "data": {
            "image/png": "[encoded data removed]",
            "text/plain": [
              "<Figure size 432x288 with 1 Axes>"
            ]
          },
          "metadata": {
            "tags": []
          }
        }
      ]
    },
    {
      "cell_type": "code",
      "metadata": {
        "id": "462CV_Uxy9Pj",
        "colab": {
          "base_uri": "https://localhost:8080/"
        },
        "outputId": "617288b8-08d6-414b-a751-7a6fa480118f"
      },
      "source": [
        "# mendapatkan label pada gambar \n",
        "print('image label :',y_train[index])"
      ],
      "execution_count": null,
      "outputs": [
        {
          "output_type": "stream",
          "text": [
            "image label : [1]\n"
          ],
          "name": "stdout"
        }
      ]
    },
    {
      "cell_type": "code",
      "metadata": {
        "id": "fCaI4F2WzsLR",
        "colab": {
          "base_uri": "https://localhost:8080/"
        },
        "outputId": "a2f68715-7c38-4111-9366-4f26eb47befb"
      },
      "source": [
        "# mengklasifikasi images berdasarkan indeks\n",
        "classification = ['airplane', 'automobile','bird','cat','deer','dog','frog','horse','ship','truck']\n",
        "#menampilkan\n",
        "print('Klasifikasi gambar : ', classification[y_train[index][0]])"
      ],
      "execution_count": null,
      "outputs": [
        {
          "output_type": "stream",
          "text": [
            "Klasifikasi gambar :  deer\n"
          ],
          "name": "stdout"
        }
      ]
    },
    {
      "cell_type": "code",
      "metadata": {
        "id": "Bq-Sjf440_aM"
      },
      "source": [
        "# mengubah label data set menjadi input pada neural network berjumlah 10 input\n",
        "y_train_one_hot = to_categorical(y_train)\n",
        "y_test_one_hot = to_categorical(y_test)"
      ],
      "execution_count": null,
      "outputs": []
    },
    {
      "cell_type": "code",
      "metadata": {
        "id": "eguCQCvaYF2i",
        "colab": {
          "base_uri": "https://localhost:8080/"
        },
        "outputId": "36570183-b0d0-4fd2-d478-77ce8cc3ad23"
      },
      "source": [
        "# menampilkan label yang sudah dijadikan input\n",
        "print(y_train_one_hot)"
      ],
      "execution_count": null,
      "outputs": [
        {
          "output_type": "stream",
          "text": [
            "[[0. 0. 0. ... 0. 0. 0.]\n",
            " [0. 0. 0. ... 0. 0. 1.]\n",
            " [0. 0. 0. ... 0. 0. 1.]\n",
            " ...\n",
            " [0. 0. 0. ... 0. 0. 1.]\n",
            " [0. 1. 0. ... 0. 0. 0.]\n",
            " [0. 1. 0. ... 0. 0. 0.]]\n"
          ],
          "name": "stdout"
        }
      ]
    },
    {
      "cell_type": "code",
      "metadata": {
        "id": "txWNSeb-YP9A",
        "colab": {
          "base_uri": "https://localhost:8080/",
          "height": 52
        },
        "outputId": "0ab08601-dd86-4564-d33c-23aed968563c"
      },
      "source": [
        "\"\"\" pada setiap label akan diubah kedalam sebuah vektor yang berisi 10 nilai dengan \n",
        "setiap kolom bernilai 0 kecuali 1 kolom bernilai \"1\" yang menandakan identitas\n",
        "\"\"\""
      ],
      "execution_count": null,
      "outputs": [
        {
          "output_type": "execute_result",
          "data": {
            "application/vnd.google.colaboratory.intrinsic+json": {
              "type": "string"
            },
            "text/plain": [
              "' pada setiap label akan diubah kedalam sebuah vektor yang berisi 10 nilai dengan \\nsetiap kolom bernilai 0 kecuali 1 kolom bernilai \"1\" yang menandakan identitas\\n'"
            ]
          },
          "metadata": {
            "tags": []
          },
          "execution_count": 13
        }
      ]
    },
    {
      "cell_type": "code",
      "metadata": {
        "id": "rQthlpVyYhIl",
        "colab": {
          "base_uri": "https://localhost:8080/"
        },
        "outputId": "35142657-bb7d-4db6-dc29-6cb8977256be"
      },
      "source": [
        "# menampilkan label saat ini \n",
        "print(y_train_one_hot[index])"
      ],
      "execution_count": null,
      "outputs": [
        {
          "output_type": "stream",
          "text": [
            "[0. 0. 0. 0. 1. 0. 0. 0. 0. 0.]\n"
          ],
          "name": "stdout"
        }
      ]
    },
    {
      "cell_type": "code",
      "metadata": {
        "id": "PH5P_TFFYzWp",
        "colab": {
          "base_uri": "https://localhost:8080/"
        },
        "outputId": "e3fa783d-9276-4b26-9d98-3cd23bec620a"
      },
      "source": [
        "# mengkonvert pixel gamabr pada data set menjadi nilai float antara 0 sampai 1\n",
        "x_train = x_train /255\n",
        "x_test = x_test / 255\n",
        "x_train[index]"
      ],
      "execution_count": null,
      "outputs": [
        {
          "output_type": "execute_result",
          "data": {
            "text/plain": [
              "array([[[0.20784314, 0.25490196, 0.20784314],\n",
              "        [0.21176471, 0.24705882, 0.20392157],\n",
              "        [0.21960784, 0.23529412, 0.19607843],\n",
              "        ...,\n",
              "        [0.18431373, 0.2       , 0.19607843],\n",
              "        [0.16078431, 0.17647059, 0.17254902],\n",
              "        [0.09411765, 0.10980392, 0.10588235]],\n",
              "\n",
              "       [[0.18039216, 0.23137255, 0.16078431],\n",
              "        [0.20784314, 0.24313725, 0.17647059],\n",
              "        [0.21176471, 0.23137255, 0.17254902],\n",
              "        ...,\n",
              "        [0.16470588, 0.18039216, 0.17647059],\n",
              "        [0.15294118, 0.16862745, 0.16470588],\n",
              "        [0.10980392, 0.1254902 , 0.12156863]],\n",
              "\n",
              "       [[0.17647059, 0.23137255, 0.14901961],\n",
              "        [0.19607843, 0.23529412, 0.16078431],\n",
              "        [0.18039216, 0.20392157, 0.13333333],\n",
              "        ...,\n",
              "        [0.14901961, 0.16470588, 0.16078431],\n",
              "        [0.14117647, 0.15686275, 0.15294118],\n",
              "        [0.11372549, 0.12941176, 0.1254902 ]],\n",
              "\n",
              "       ...,\n",
              "\n",
              "       [[0.27843137, 0.3254902 , 0.25882353],\n",
              "        [0.29019608, 0.3254902 , 0.25882353],\n",
              "        [0.31372549, 0.33333333, 0.2627451 ],\n",
              "        ...,\n",
              "        [0.2       , 0.21176471, 0.12941176],\n",
              "        [0.18039216, 0.19215686, 0.13333333],\n",
              "        [0.19215686, 0.19607843, 0.16078431]],\n",
              "\n",
              "       [[0.29411765, 0.32156863, 0.2627451 ],\n",
              "        [0.30980392, 0.33333333, 0.27058824],\n",
              "        [0.31764706, 0.33333333, 0.2627451 ],\n",
              "        ...,\n",
              "        [0.23921569, 0.25490196, 0.16078431],\n",
              "        [0.25098039, 0.2627451 , 0.18823529],\n",
              "        [0.18823529, 0.19607843, 0.16078431]],\n",
              "\n",
              "       [[0.33333333, 0.3254902 , 0.27843137],\n",
              "        [0.33333333, 0.32941176, 0.27843137],\n",
              "        [0.3372549 , 0.3372549 , 0.2745098 ],\n",
              "        ...,\n",
              "        [0.23921569, 0.25490196, 0.15294118],\n",
              "        [0.25098039, 0.2627451 , 0.18039216],\n",
              "        [0.19215686, 0.19607843, 0.16078431]]])"
            ]
          },
          "metadata": {
            "tags": []
          },
          "execution_count": 12
        }
      ]
    },
    {
      "cell_type": "code",
      "metadata": {
        "id": "9miVerbTZXeI"
      },
      "source": [
        "# membuat model arsitektur\n",
        "model = Sequential()\n",
        "\n",
        "# menambahkan layer 1\n",
        "model.add(Conv2D(32,(5,5), activation='relu',input_shape=(32,32,3)))\n",
        "\n",
        "# menambahkan layer pooling 1\n",
        "model.add(MaxPooling2D(pool_size=(2,2)))\n",
        "\n",
        "# menambahkan layer 2\n",
        "model.add(Conv2D(32,(5,5), activation='relu'))\n",
        "\n",
        "# menambahkan layer pooling 2\n",
        "model.add(MaxPooling2D(pool_size=(2,2)))\n",
        "\n",
        "# menambahkan flattening layer\n",
        "model.add(Flatten())\n",
        "\n",
        "# menambahkan layer dengan 1000 neuron\n",
        "model.add(Dense(1000, activation='relu'))\n",
        "\n",
        "# Menambahkan drop out layer\n",
        "model.add(Dropout(0.5))\n",
        "\n",
        "# menambahkan layer dengan 500 neuron\n",
        "model.add(Dense(500, activation='relu'))\n",
        "\n",
        "# Menambahkan drop out layer\n",
        "model.add(Dropout(0.5))\n",
        "\n",
        "# menambahkan layer dengan 250 neuron\n",
        "model.add(Dense(250, activation='relu'))\n",
        "\n",
        "# menambahkan layer dengan 10 neuron\n",
        "model.add(Dense(10, activation='softmax'))"
      ],
      "execution_count": null,
      "outputs": []
    },
    {
      "cell_type": "code",
      "metadata": {
        "id": "jolitNb9lcNJ"
      },
      "source": [
        "# mengcompile model \n",
        "model.compile(loss='categorical_crossentropy',\n",
        "               optimizer='adam',\n",
        "               metrics = ['accuracy'])\n",
        " "
      ],
      "execution_count": null,
      "outputs": []
    },
    {
      "cell_type": "code",
      "metadata": {
        "id": "2J46M4wTugef",
        "colab": {
          "base_uri": "https://localhost:8080/"
        },
        "outputId": "9b215d16-ab4b-4aa9-9148-889ff801f39b"
      },
      "source": [
        "#train model\n",
        "hist = model.fit(x_train,y_train_one_hot,\n",
        "                 batch_size=256,\n",
        "                 epochs = 10,\n",
        "                 validation_split = 0.2)"
      ],
      "execution_count": null,
      "outputs": [
        {
          "output_type": "stream",
          "text": [
            "Epoch 1/10\n",
            "157/157 [==============================] - 2s 11ms/step - loss: 1.8272 - accuracy: 0.3115 - val_loss: 1.5106 - val_accuracy: 0.4393\n",
            "Epoch 2/10\n",
            "157/157 [==============================] - 1s 9ms/step - loss: 1.4447 - accuracy: 0.4685 - val_loss: 1.3370 - val_accuracy: 0.5068\n",
            "Epoch 3/10\n",
            "157/157 [==============================] - 1s 9ms/step - loss: 1.3063 - accuracy: 0.5287 - val_loss: 1.2140 - val_accuracy: 0.5630\n",
            "Epoch 4/10\n",
            "157/157 [==============================] - 1s 9ms/step - loss: 1.1976 - accuracy: 0.5671 - val_loss: 1.2701 - val_accuracy: 0.5615\n",
            "Epoch 5/10\n",
            "157/157 [==============================] - 1s 9ms/step - loss: 1.1346 - accuracy: 0.5933 - val_loss: 1.1213 - val_accuracy: 0.6018\n",
            "Epoch 6/10\n",
            "157/157 [==============================] - 1s 9ms/step - loss: 1.0619 - accuracy: 0.6196 - val_loss: 1.0570 - val_accuracy: 0.6256\n",
            "Epoch 7/10\n",
            "157/157 [==============================] - 1s 9ms/step - loss: 1.0020 - accuracy: 0.6440 - val_loss: 1.0517 - val_accuracy: 0.6309\n",
            "Epoch 8/10\n",
            "157/157 [==============================] - 1s 9ms/step - loss: 0.9620 - accuracy: 0.6573 - val_loss: 1.0055 - val_accuracy: 0.6460\n",
            "Epoch 9/10\n",
            "157/157 [==============================] - 1s 9ms/step - loss: 0.8983 - accuracy: 0.6812 - val_loss: 1.0064 - val_accuracy: 0.6546\n",
            "Epoch 10/10\n",
            "157/157 [==============================] - 1s 9ms/step - loss: 0.8608 - accuracy: 0.6971 - val_loss: 0.9631 - val_accuracy: 0.6619\n"
          ],
          "name": "stdout"
        }
      ]
    },
    {
      "cell_type": "code",
      "metadata": {
        "id": "1AH-vopF0B3I",
        "colab": {
          "base_uri": "https://localhost:8080/"
        },
        "outputId": "b4300439-e97d-4165-e698-c48e61a62d2d"
      },
      "source": [
        "# menampilkan hasil tingkat akurasi model \n",
        "model.evaluate(x_test,y_test_one_hot)[1]"
      ],
      "execution_count": null,
      "outputs": [
        {
          "output_type": "stream",
          "text": [
            "313/313 [==============================] - 1s 3ms/step - loss: 0.9673 - accuracy: 0.6652\n"
          ],
          "name": "stdout"
        },
        {
          "output_type": "execute_result",
          "data": {
            "text/plain": [
              "0.6651999950408936"
            ]
          },
          "metadata": {
            "tags": []
          },
          "execution_count": 16
        }
      ]
    },
    {
      "cell_type": "code",
      "metadata": {
        "id": "J8eKSMd90Tfp",
        "colab": {
          "base_uri": "https://localhost:8080/",
          "height": 296
        },
        "outputId": "6e875d53-e122-43da-d5bc-5cbe8b02ad08"
      },
      "source": [
        "# ploting akurasi dalam grafik \n",
        "plt.plot(hist.history['accuracy'])\n",
        "plt.plot(hist.history['val_accuracy'])\n",
        "plt.title('akurasi model')\n",
        "plt.ylabel('accuracy')\n",
        "plt.xlabel('Epoch')\n",
        "plt.legend(['train','validation '],loc='center right')\n",
        "plt.show()"
      ],
      "execution_count": null,
      "outputs": [
        {
          "output_type": "display_data",
          "data": {
            "image/png": "[encoded data removed]",
            "text/plain": [
              "<Figure size 432x288 with 1 Axes>"
            ]
          },
          "metadata": {
            "tags": [],
            "needs_background": "light"
          }
        }
      ]
    },
    {
      "cell_type": "code",
      "metadata": {
        "id": "qhu3O9lU1ZN_",
        "colab": {
          "base_uri": "https://localhost:8080/",
          "height": 296
        },
        "outputId": "b306661b-f10a-45b4-d1ee-3c305cedc3b0"
      },
      "source": [
        "# ploting loss dalam grafik \n",
        "plt.plot(hist.history['loss'])\n",
        "plt.plot(hist.history['val_loss'])\n",
        "plt.title('loss model')\n",
        "plt.ylabel('Loss')\n",
        "plt.xlabel('Epoch')\n",
        "plt.legend(['train','val'],loc='center right')\n",
        "plt.show()"
      ],
      "execution_count": null,
      "outputs": [
        {
          "output_type": "display_data",
          "data": {
            "image/png": "[encoded data removed]",
            "text/plain": [
              "<Figure size 432x288 with 1 Axes>"
            ]
          },
          "metadata": {
            "tags": [],
            "needs_background": "light"
          }
        }
      ]
    },
    {
      "cell_type": "code",
      "metadata": {
        "id": "4QqZqjcs1wnG"
      },
      "source": [
        ""
      ],
      "execution_count": null,
      "outputs": []
    }
  ]
}